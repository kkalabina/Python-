{
 "cells": [
  {
   "cell_type": "markdown",
   "id": "e152f6d6",
   "metadata": {
    "ExecuteTime": {
     "end_time": "2022-12-10T14:29:24.703416Z",
     "start_time": "2022-12-10T14:29:24.688485Z"
    },
    "id": "e152f6d6"
   },
   "source": [
    "## Домашнє завдання 6: Статистичні тести"
   ]
  },
  {
   "cell_type": "markdown",
   "id": "cd404683",
   "metadata": {
    "id": "cd404683"
   },
   "source": [
    "0. Зчитайте дані з `data.csv` та запишіть значення колонки data у форматі np.ndarray в змінну data. Ми будемо далі працювати з цією змінною."
   ]
  },
  {
   "cell_type": "code",
   "execution_count": 1,
   "id": "a8M1Xqa3hInl",
   "metadata": {
    "id": "a8M1Xqa3hInl"
   },
   "outputs": [],
   "source": [
    "import pandas as pd\n",
    "import numpy as np\n",
    "from statsmodels.stats.weightstats import ztest\n",
    "from scipy import stats\n",
    "\n",
    "df = pd.read_csv('../data/data.csv')\n",
    "data = np.array(df.data)"
   ]
  },
  {
   "cell_type": "markdown",
   "id": "3d06cbbf",
   "metadata": {
    "id": "3d06cbbf"
   },
   "source": [
    "Запустіть код нижче. Для коректної робити всіх подальших методів дані мають бути у вигляді одновимірного вектора, тобто мати розмір (100,)."
   ]
  },
  {
   "cell_type": "code",
   "execution_count": 2,
   "id": "Rc_cM9TfhJYI",
   "metadata": {
    "id": "Rc_cM9TfhJYI"
   },
   "outputs": [
    {
     "data": {
      "text/plain": [
       "(100,)"
      ]
     },
     "execution_count": 2,
     "metadata": {},
     "output_type": "execute_result"
    }
   ],
   "source": [
    "data.shape"
   ]
  },
  {
   "cell_type": "markdown",
   "id": "abdcef5d",
   "metadata": {
    "id": "abdcef5d"
   },
   "source": [
    "1. Зчитані дані - це сума покупок в доларах наших покупців на сайті протягом липня 2022 року.\n",
    "\n",
    "До цього місяця, ми мали продажі в середньому на чек $20. Чи вийшло у нас статистично значущо **підвищити** середній чек за останній місяць?\n",
    "\n",
    "Оберіть статистичний тест (z-test чи t-test). Виведіть p-значення статистичного тесту та зробіть висновок, чи ми маємо зараз статистично значущу різницю у розмірі середнього чеку.\n",
    "\n",
    "**Підказка**: тут тест буде одновибірковий."
   ]
  },
  {
   "cell_type": "markdown",
   "id": "6d91aea3-28cc-452e-8209-f11f0ed8551e",
   "metadata": {},
   "source": [
    "Нульова гіпотеза (H0): Середній чек за липень 2022 не відрізняється статистично значуще від середнього чеку до цього місяця ($20).\n",
    "Альтернативна гіпотеза (H1): Середній чек за липень 2022 статистично значуще відрізняється від середнього чеку до цього місяця."
   ]
  },
  {
   "cell_type": "code",
   "execution_count": 3,
   "id": "bfd187e1-95c2-428e-a117-5a673e456b69",
   "metadata": {},
   "outputs": [
    {
     "name": "stdout",
     "output_type": "stream",
     "text": [
      "t-статистика: -0.9953477389335053, \n",
      "p-значення: 0.3219937839011988.\n",
      "\n",
      "Нульова гіпотеза (H0) не може бути відхилена. Середній чек за липень 2022 не відрізняється статистично значуще від середнього чеку за попередній період.\n"
     ]
    }
   ],
   "source": [
    "mean_check = 20\n",
    "\n",
    "t_statistic, p_value = stats.ttest_1samp(data, mean_check)\n",
    "print(f\"t-статистика: {t_statistic}, \\np-значення: {p_value}.\")\n",
    "\n",
    "alpha = 0.05\n",
    "if(p_value <  alpha):\n",
    "    print(\"Відхиляємо нульову гіпотезу (Н0). Отже середній чек за липень 2022 статистично значуще відрізняється від середнього чеку за попередній період.\")\n",
    "else:\n",
    "    print(\"\\nНульова гіпотеза (H0) не може бути відхилена. Середній чек за липень 2022 не відрізняється статистично значуще від середнього чеку за попередній період.\")"
   ]
  },
  {
   "cell_type": "markdown",
   "id": "05219e41",
   "metadata": {
    "ExecuteTime": {
     "end_time": "2022-12-10T14:52:46.140204Z",
     "start_time": "2022-12-10T14:52:46.112068Z"
    },
    "id": "05219e41"
   },
   "source": [
    "2. Пройшов час, і ми зібрали дані про продажі за серпень 2022 року, які зберігли у файл `data_2.csv`. Продажів було дещо більше, але чи змінився стат. значущо середній чек порівняно з липнем 2022? Перевірте це використовуючи ztest.\n",
    "\n",
    "  Виведіть p-значення статистичного тесту та зробіть висновок, чи ми маємо зараз статистично значущу різницю у розмірі середнього чека між двома місяцями.\n",
    "\n",
    "  **Підказка**: треба провести двовибірковий ztest з Н0 - що середні значення в липні та серпні 2022 року - однакові. Для кращого розуміння ситуації, можливо вам буде цікаво переглянути, які середні показники чеку були в кожен з місяців. Порівняйте свій висновок з простого спостереження середніх значень і висновок статистичного тесту. Чи вони збігаються?"
   ]
  },
  {
   "cell_type": "code",
   "execution_count": 4,
   "id": "hbs7LPI4hP-6",
   "metadata": {
    "id": "hbs7LPI4hP-6"
   },
   "outputs": [],
   "source": [
    "df_2 = pd.read_csv('../data/data_2.csv')\n",
    "data_2 = np.array(df_2.data)"
   ]
  },
  {
   "cell_type": "code",
   "execution_count": 5,
   "id": "df014a21-b4dd-431e-9b94-5a7082d01742",
   "metadata": {},
   "outputs": [
    {
     "name": "stdout",
     "output_type": "stream",
     "text": [
      "Середній чек у липні 2022: $19.38. \n",
      "Середній чек у серпні 2022: $19.37. \n",
      "P-значення Z-тесту: 0.9937\n",
      "\n",
      "Нульова гіпотеза (H0) не може бути відхилена. Немає статистично значущої різниці між середніми чеками.\n"
     ]
    }
   ],
   "source": [
    "mean_july = np.mean(data)\n",
    "mean_august = np.mean(data_2)\n",
    "\n",
    "z_stat, p_value = ztest(data_2, value=mean_july)\n",
    "print(f\"Середній чек у липні 2022: ${mean_july:.2f}. \\nСередній чек у серпні 2022: ${mean_august:.2f}. \\nP-значення Z-тесту: {p_value:.4f}\")\n",
    "\n",
    "if p_value < alpha:\n",
    "    print(\"Відхиляємо нульову гіпотезу (Н0). Статистично значуща різниця між середніми чеками існує.\")\n",
    "else:\n",
    "    print(\"\\nНульова гіпотеза (H0) не може бути відхилена. Немає статистично значущої різниці між середніми чеками.\")"
   ]
  }
 ],
 "metadata": {
  "colab": {
   "provenance": []
  },
  "hide_input": false,
  "kernelspec": {
   "display_name": "Python 3 (ipykernel)",
   "language": "python",
   "name": "python3"
  },
  "language_info": {
   "codemirror_mode": {
    "name": "ipython",
    "version": 3
   },
   "file_extension": ".py",
   "mimetype": "text/x-python",
   "name": "python",
   "nbconvert_exporter": "python",
   "pygments_lexer": "ipython3",
   "version": "3.12.4"
  },
  "toc": {
   "base_numbering": 1,
   "nav_menu": {},
   "number_sections": true,
   "sideBar": true,
   "skip_h1_title": false,
   "title_cell": "Table of Contents",
   "title_sidebar": "Contents",
   "toc_cell": false,
   "toc_position": {},
   "toc_section_display": true,
   "toc_window_display": false
  },
  "varInspector": {
   "cols": {
    "lenName": 16,
    "lenType": 16,
    "lenVar": 40
   },
   "kernels_config": {
    "python": {
     "delete_cmd_postfix": "",
     "delete_cmd_prefix": "del ",
     "library": "var_list.py",
     "varRefreshCmd": "print(var_dic_list())"
    },
    "r": {
     "delete_cmd_postfix": ") ",
     "delete_cmd_prefix": "rm(",
     "library": "var_list.r",
     "varRefreshCmd": "cat(var_dic_list()) "
    }
   },
   "types_to_exclude": [
    "module",
    "function",
    "builtin_function_or_method",
    "instance",
    "_Feature"
   ],
   "window_display": false
  }
 },
 "nbformat": 4,
 "nbformat_minor": 5
}
